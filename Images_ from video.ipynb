{
 "cells": [
  {
   "cell_type": "code",
   "execution_count": 20,
   "id": "0b40d459",
   "metadata": {},
   "outputs": [],
   "source": [
    "import torch\n",
    "import numpy as np\n",
    "import cv2\n",
    "import pafy\n",
    "import os\n",
    "from time import time, gmtime, strftime\n",
    "import torchvision\n",
    "from torchvision.models.detection.faster_rcnn import FastRCNNPredictor\n",
    "from torchvision import datasets, transforms, models\n"
   ]
  },
  {
   "cell_type": "code",
   "execution_count": 31,
   "id": "034838ea",
   "metadata": {},
   "outputs": [],
   "source": [
    "class ImagefromVideo:\n",
    "    \"\"\"\n",
    "    Class implements image extraction from youtube video or video file\n",
    "    \"\"\"\n",
    "\n",
    "    def __init__(self, source, out_dir=\"/home/costia/extracted_images\",\n",
    "                nth_frame = 100):\n",
    "        \"\"\"\n",
    "        \n",
    "        \"\"\"\n",
    "        self.source = source\n",
    "        self.suffics = strftime(\"%Y-%m-%d_%H-%M-%S\", gmtime())\n",
    "        self.out_dir = os.path.join(out_dir, self.suffics )\n",
    "        self.nth_frame = nth_frame\n",
    "        \n",
    "        \n",
    "    def get_video(self):\n",
    "        \"\"\"\n",
    "        Creates a new video streaming object to extract video frame by frame to make prediction on.\n",
    "        :return: opencv2 video capture object, with lowest quality frame available for video.\n",
    "        \"\"\"\n",
    "        if self.source[:4] == \"http\":\n",
    "            play = pafy.new(self.source).streams[0]\n",
    "            assert play is not None\n",
    "            return cv2.VideoCapture(play.url)\n",
    "        else:\n",
    "            return cv2.VideoCapture(self.source)\n",
    "            \n",
    "    \n",
    "    def __call__(self):\n",
    "        \"\"\"\n",
    "        This function is called when class is executed, it runs the loop to read the video frame by frame,\n",
    "        and write the output images into a folder.\n",
    "        :returns: void\n",
    "        \"\"\"\n",
    "        directory = os.path.isdir(self.out_dir)\n",
    "        if not directory:\n",
    "            os.makedirs(self.out_dir)\n",
    "            print(\"created folder : \", self.out_dir)\n",
    "        else:\n",
    "            print(directory, \"folder already exists.\")\n",
    "            \n",
    "        player = self.get_video()\n",
    "        assert player.isOpened()\n",
    "        success = True\n",
    "        count = 0\n",
    "        while success:\n",
    "            success,image = player.read()\n",
    "            try:\n",
    "                assert success\n",
    "            except AssertionError:\n",
    "                print (\"Video finished\")\n",
    "                break\n",
    "            if count%self.nth_frame==0:\n",
    "                \n",
    "                file_name =self.suffics + \"image%d.jpg\" % count \n",
    "                path = os.path.join(self.out_dir,file_name)\n",
    "                cv2.imwrite(path, image)     # save image as JPEG file      \n",
    "                print(f'Read a {count} frame:', success)\n",
    "            count += 1\n",
    "        print(count)\n",
    "\n",
    "       \n"
   ]
  },
  {
   "cell_type": "code",
   "execution_count": null,
   "id": "1ed7e1bf",
   "metadata": {},
   "outputs": [
    {
     "name": "stdout",
     "output_type": "stream",
     "text": [
      "created folder :  /home/costia/extracted_images/2022-01-09_17-45-33\n",
      "Read a 0 frame: True\n",
      "Read a 100 frame: True\n",
      "Read a 200 frame: True\n",
      "Read a 300 frame: True\n",
      "Read a 400 frame: True\n",
      "Read a 500 frame: True\n",
      "Read a 600 frame: True\n",
      "Read a 700 frame: True\n"
     ]
    }
   ],
   "source": [
    "images = ImagefromVideo(source = \"https://www.youtube.com/watch?v=_q6VoQFg1YY\",nth_frame=100)\n",
    "images()"
   ]
  },
  {
   "cell_type": "code",
   "execution_count": null,
   "id": "459aeda7",
   "metadata": {},
   "outputs": [],
   "source": []
  },
  {
   "cell_type": "code",
   "execution_count": 4,
   "id": "24ac0b02",
   "metadata": {},
   "outputs": [
    {
     "name": "stdout",
     "output_type": "stream",
     "text": [
      "Collecting youtube_dl\n",
      "  Downloading youtube_dl-2021.12.17-py2.py3-none-any.whl (1.9 MB)\n",
      "\u001b[K     |████████████████████████████████| 1.9 MB 1.0 MB/s eta 0:00:01\n",
      "\u001b[?25hInstalling collected packages: youtube-dl\n",
      "Successfully installed youtube-dl-2021.12.17\n"
     ]
    }
   ],
   "source": [
    "#!pip install pafy\n",
    "!pip install --upgrade youtube_dl"
   ]
  },
  {
   "cell_type": "code",
   "execution_count": null,
   "id": "2038f517",
   "metadata": {},
   "outputs": [],
   "source": []
  },
  {
   "cell_type": "code",
   "execution_count": null,
   "id": "b2ac205a",
   "metadata": {},
   "outputs": [],
   "source": []
  }
 ],
 "metadata": {
  "kernelspec": {
   "display_name": "Python 3 (ipykernel)",
   "language": "python",
   "name": "python3"
  },
  "language_info": {
   "codemirror_mode": {
    "name": "ipython",
    "version": 3
   },
   "file_extension": ".py",
   "mimetype": "text/x-python",
   "name": "python",
   "nbconvert_exporter": "python",
   "pygments_lexer": "ipython3",
   "version": "3.8.11"
  }
 },
 "nbformat": 4,
 "nbformat_minor": 5
}
