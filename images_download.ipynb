{
 "cells": [
  {
   "cell_type": "code",
   "execution_count": null,
   "id": "89b085d0",
   "metadata": {},
   "outputs": [],
   "source": [
    "from simple_image_download import simple_image_download as simp "
   ]
  },
  {
   "cell_type": "code",
   "execution_count": null,
   "id": "2a9fa0af",
   "metadata": {},
   "outputs": [],
   "source": [
    "response = simp.simple_image_download\n",
    "\n",
    "queries_list =[\n",
    "    'great tits　bird','синицы','синицы на снегу','синицы на кормушке',\n",
    "    'bullfinch','снегири','снегири на снегу','снегири на кормушке',\n",
    "    'blue tits','лазоревки','лазоревки на снегу','лазоревки на кормушке',\n",
    "    'greenfinch','зеленушка птица','зеленушка птица на снегу','зеленушки птицы на кормушке',\n",
    "    'hawfinch','дубоносы','дубоносы на снегу','дубоносы на кормушке',\n",
    "    'great spotted woodpecker','большой красный дятел',\n",
    "    'большой красный дятел на снегу','большой красный дятел на кормушке',\n",
    "    'willow tit','буроголовая гаичка','буроголовая гаичка на снегу','буроголовая гаичка на кормушке',\n",
    "    'common redpoll','Обыкновенная чечётка','чечётки на снегу','чечётки на кормушке',\n",
    "    'Carduelis','щеглы птицы ','щеглы на снегу','щеглы на кормушке',\n",
    "    'finch','снегири','снегири в снегу','снегири на кормушке',\n",
    "    'bullfinch','снегири','снегири в снегу','снегири на кормушке',\n",
    "    \n",
    "    \n",
    "]\n",
    "\n",
    "for rep in queries_list:\n",
    "    response().download(rep  , 100)"
   ]
  }
 ],
 "metadata": {
  "kernelspec": {
   "display_name": "Python 3 (ipykernel)",
   "language": "python",
   "name": "python3"
  },
  "language_info": {
   "codemirror_mode": {
    "name": "ipython",
    "version": 3
   },
   "file_extension": ".py",
   "mimetype": "text/x-python",
   "name": "python",
   "nbconvert_exporter": "python",
   "pygments_lexer": "ipython3",
   "version": "3.8.10"
  }
 },
 "nbformat": 4,
 "nbformat_minor": 5
}
