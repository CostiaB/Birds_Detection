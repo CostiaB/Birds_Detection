{
 "cells": [
  {
   "cell_type": "code",
   "execution_count": 10,
   "id": "ed8eee5f",
   "metadata": {},
   "outputs": [],
   "source": [
    "import pickle"
   ]
  },
  {
   "cell_type": "code",
   "execution_count": 6,
   "id": "8fc80507",
   "metadata": {},
   "outputs": [],
   "source": [
    "labels_dict_en = {1: 'Eurasian jay',\n",
    " 2: 'Great spotted woodpecker',\n",
    " 3: 'Greenfinch',\n",
    " 4: 'Blue tit',\n",
    " 5: 'Carduelis',\n",
    " 6: 'Common redpoll',\n",
    " 7: 'Great tit',\n",
    " 8: 'Eurasian bullfinch',\n",
    " 9: 'Eurasian siskin',\n",
    " 10: 'Eurasian tree_sparrow',\n",
    " 11: 'Hawfinch',\n",
    " 12: 'Willow tit',\n",
    " 13: 'Fieldfare',\n",
    " 14: 'Common chaffinch',\n",
    " 15: \"Common linnet\",\n",
    " 16: \"Brambling\",\n",
    " 17: \"White wagtail\",\n",
    " 18: \"Coal tit\",}"
   ]
  },
  {
   "cell_type": "code",
   "execution_count": 7,
   "id": "3a5805d0",
   "metadata": {},
   "outputs": [],
   "source": [
    "labels_dict_ru = {1: 'カケス (懸巣)',\n",
    " 2: 'アカゲラ (赤啄木鳥)',\n",
    " 3: 'アオカワラヒワ (青河原鶸)',\n",
    " 4: 'アオガラ (青雀)',\n",
    " 5: 'ゴシキヒワ (五色鶸)',\n",
    " 6: 'ベニヒワ (紅鶸)',\n",
    " 7: 'シジュウカラ (四十雀)',\n",
    " 8: 'ウソ (鷽)',\n",
    " 9: 'マヒワ (真鶸)',\n",
    " 10: 'スズメ (雀)',\n",
    " 11: 'シメ (鴲)',\n",
    " 12: 'コガラ (小雀)',\n",
    " 13: 'ノハラツグミ',\n",
    " 14: 'ズアオアトリ (頭青花鶏)',\n",
    " 15: \"ムネアカヒワ (胸赤鶸)\",\n",
    " 16: \"アトリ（獦子鳥)\",\n",
    " 17: \"タイリクハクセキレイ（大陸白鶺鴒)\",\n",
    " 18: \"ヒガラ（日雀)\"}"
   ]
  },
  {
   "cell_type": "code",
   "execution_count": 8,
   "id": "5c5c039e",
   "metadata": {},
   "outputs": [],
   "source": [
    "labels_dict_jp = {1: 'Сойка',\n",
    " 2: 'Большой пестрый дятел',\n",
    " 3: 'Зеленушка',\n",
    " 4: 'Лазоревка',\n",
    " 5: 'Щегол',\n",
    " 6: 'Чечётка',\n",
    " 7: 'Большая синица',\n",
    " 8: 'Снегирь',\n",
    " 9: 'Чиж',\n",
    " 10: 'Полевой воробей',\n",
    " 11: 'Дубонос',\n",
    " 12: 'Буроголовая гаичка',\n",
    " 13: 'Дрозд рябинник',\n",
    " 14: 'Зяблик',\n",
    " 15: \"Коноплянка\",\n",
    " 16: \"Вьюрок\",\n",
    " 17: \"Белая трясогузка\",\n",
    " 18: \"Московка\"}\n",
    "  "
   ]
  },
  {
   "cell_type": "code",
   "execution_count": 3,
   "id": "d677544e",
   "metadata": {},
   "outputs": [],
   "source": [
    "def create_pickle(dictionary, lang):\n",
    "    '''\n",
    "    Creates and save pickle file for dictionary\n",
    "\n",
    "            Parameters:\n",
    "                    dictionary (dict): A dictionary of birds names format {index : 'bird_name'}\n",
    "                    lang (str): Language string in saved dictionary file\n",
    "\n",
    "            Returns:\n",
    "                    Nothing\n",
    "                    Saves pickle file for dictionary\n",
    "    \n",
    "    '''\n",
    "    if type(lang) != str:\n",
    "        print(\"Lang sould be string.\")\n",
    "        return 0 \n",
    "    with open('labels_'+ lang +'.pickle', 'wb') as handle:\n",
    "        pickle.dump(dictionary, handle, protocol=pickle.HIGHEST_PROTOCOL)\n",
    "\n",
    "    # Load data (deserialize)\n",
    "    with open('labels_'+ lang +'.pickle', 'rb') as handle:\n",
    "        unserialized_data = pickle.load(handle)\n",
    "\n",
    "    print(\"Test of loaded dict: \", dictionary == unserialized_data)\n",
    "    "
   ]
  },
  {
   "cell_type": "code",
   "execution_count": 11,
   "id": "a5e9329b",
   "metadata": {},
   "outputs": [
    {
     "name": "stdout",
     "output_type": "stream",
     "text": [
      "Test of loaded dict:  True\n",
      "Test of loaded dict:  True\n",
      "Test of loaded dict:  True\n"
     ]
    }
   ],
   "source": [
    "dict_list =[labels_dict_en, labels_dict_jp, labels_dict_ru] \n",
    "lang_list = ['en', 'jp', 'ru']\n",
    "for d, l in zip (dict_list, lang_list):\n",
    "    create_pickle(d, l)"
   ]
  }
 ],
 "metadata": {
  "kernelspec": {
   "display_name": "Python 3 (ipykernel)",
   "language": "python",
   "name": "python3"
  },
  "language_info": {
   "codemirror_mode": {
    "name": "ipython",
    "version": 3
   },
   "file_extension": ".py",
   "mimetype": "text/x-python",
   "name": "python",
   "nbconvert_exporter": "python",
   "pygments_lexer": "ipython3",
   "version": "3.7.13"
  }
 },
 "nbformat": 4,
 "nbformat_minor": 5
}
