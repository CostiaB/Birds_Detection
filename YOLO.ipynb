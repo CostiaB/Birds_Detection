{
 "cells": [
  {
   "cell_type": "code",
   "execution_count": 1,
   "id": "37216c64",
   "metadata": {},
   "outputs": [
    {
     "data": {
      "text/plain": [
       "{'divide': 'warn', 'over': 'warn', 'under': 'ignore', 'invalid': 'warn'}"
      ]
     },
     "execution_count": 1,
     "metadata": {},
     "output_type": "execute_result"
    }
   ],
   "source": [
    "import numpy as np \n",
    "import pandas as pd \n",
    "import matplotlib.pyplot as plt\n",
    "import seaborn as sns\n",
    "\n",
    "\n",
    "import matplotlib.patches as patches\n",
    "from collections import Counter\n",
    "import os\n",
    "import shutil\n",
    "import random\n",
    "import xml.etree.ElementTree as ET\n",
    "import torch\n",
    "import torchvision\n",
    "from torchvision import datasets, transforms, models\n",
    "from torch.utils.data import Dataset,DataLoader\n",
    "from PIL import Image\n",
    "from sklearn.model_selection import train_test_split\n",
    "\n",
    "import sys\n",
    "import torch.optim as optim\n",
    "from tqdm.notebook import tqdm\n",
    "np.seterr(divide='ignore', invalid='ignore')"
   ]
  },
  {
   "cell_type": "code",
   "execution_count": 2,
   "id": "fb4a3824",
   "metadata": {},
   "outputs": [],
   "source": [
    "device = torch.device (\"cuda:0\" if torch.cuda.is_available () else \"cpu\")"
   ]
  },
  {
   "cell_type": "code",
   "execution_count": 3,
   "id": "e3e4bbfa",
   "metadata": {},
   "outputs": [],
   "source": [
    "path_annotations = \"/content/drive/MyDrive/birds/birds/annotations/\" \n",
    "images_dir = \"/content/drive/MyDrive/birds/birds/\"\n",
    "\n",
    "path_annotations = \"/home/costia/birds/annotations/\" #\"/home/costia/birds_project/detect/annotations/check/\"\n",
    "images_dir = \"/home/costia/birds/\""
   ]
  },
  {
   "cell_type": "code",
   "execution_count": 15,
   "id": "bfbbedb6",
   "metadata": {},
   "outputs": [],
   "source": [
    "labels_dict = {\n",
    "    1: 'Eurasian_jay',\n",
    "    2: 'great_spotted_woodpecker',\n",
    "    3: 'greenfinch',\n",
    "    4: 'blue_tit',\n",
    "    5: 'Carduelis',\n",
    "    6: 'common_redpoll',\n",
    "    7: 'great_tit',\n",
    "    8: 'bullfinch',\n",
    "    9: 'Eurasian_siskin',\n",
    "    10: 'Eurasian_tree_sparrow',\n",
    "    11: 'hawfinch',\n",
    "    12: 'willow_tit',\n",
    "    13: 'Fieldfare',\n",
    "    14: 'Common_chaffinch',\n",
    "    15: 'Common_linnet'}\n",
    "n_classes = len(labels_dict)  # number of classes\n",
    "color_dict = {i:color/255 for i,color in enumerate(np.random.uniform(0, 255, size=(n_classes, 3)))}"
   ]
  },
  {
   "cell_type": "code",
   "execution_count": 5,
   "id": "ecbe725a",
   "metadata": {},
   "outputs": [],
   "source": [
    "def convert_2_yolo(size, box):\n",
    "    dw = 1./(size[0])\n",
    "    dh = 1./(size[1])\n",
    "    x_min, y_min, x_max, y_max = box\n",
    "    x = (x_min + x_max)/2.0 - 1\n",
    "    y = (y_min + y_max)/2.0 - 1\n",
    "    w = x_max - x_min\n",
    "    h = y_max - y_min\n",
    "    x = x*dw\n",
    "    w = w*dw\n",
    "    y = y*dh\n",
    "    h = h*dh\n",
    "    return (x, y , w, h)\n",
    "\n",
    "def xml_transform(xml_path, im_size = None):\n",
    "    xml = ET.parse(xml_path)\n",
    "    root = xml.getroot()\n",
    "    img_name = root[1].text\n",
    "    labels, boxes = [], [] \n",
    "    \n",
    "    size = (float(root[4][0].text), float(root[4][1].text))\n",
    "    #print(\"(w,h)\", size, img_name) # test info\n",
    "    for obj in root.iter('object'):\n",
    "        label = obj[0].text\n",
    "        if label == 'Common chaffinch':\n",
    "            label = 'Common_chaffinch'\n",
    "        try:\n",
    "            label = [label == species for species in labels_dict.values()].index(True) + 1\n",
    "        except ValueError:\n",
    "            print(xml_path)\n",
    "                \n",
    "        labels.append(label)\n",
    "        box = [int(coord.text) for coord in obj[4]]\n",
    "        if im_size:\n",
    "            dw = im_size[0]/(size[0])\n",
    "            dh = im_size[1]/(size[1])\n",
    "            box = [int(box[0]*dw), int(box[1]*dh), int(box[2]*dw), int(box[3]*dh)]\n",
    "            box = convert_2_yolo(im_size, box)\n",
    "        else:\n",
    "            box = convert_2_yolo(size, box)\n",
    "        boxes.append(box)\n",
    "        \n",
    "    target = {'boxes' : torch.as_tensor(boxes, dtype=torch.float32),\n",
    "              'labels' : labels}\n",
    "    return img_name, target\n",
    "\n",
    "\n",
    "\n",
    "def count_classes(path_annotations):\n",
    "    target_list = []\n",
    "    xml_list = [os.path.join(path_annotations, file) for file in os.listdir(path_annotations)]\n",
    "    for xml in xml_list:\n",
    "        _, target = xml_transform(xml)\n",
    "        target_list += target['labels']\n",
    "    return Counter(target_list) "
   ]
  },
  {
   "cell_type": "code",
   "execution_count": 8,
   "id": "97cbf701",
   "metadata": {},
   "outputs": [],
   "source": [
    "def plot_detection(img, info, with_text=False, conf_lvl=0.3, swap=True,\n",
    "                   color_dict=color_dict):\n",
    "    fig, ax = plt.subplots()\n",
    "    img = img.permute((1, 2, 0))\n",
    "\n",
    "    # Undo preprocessing\n",
    "    mean = np.array([0.485, 0.456, 0.406])\n",
    "    std = np.array([0.229, 0.224, 0.225])\n",
    "    img = std * img.numpy() + mean\n",
    "\n",
    "    # Image needs to be clipped between 0 and 1 or it looks like noise when displayed\n",
    "    img = np.clip(img, 0, 1)\n",
    "    \n",
    "    if swap:\n",
    "        img = img.swapaxes(0,1)\n",
    "        img = img.swapaxes(1,2)\n",
    "        img = np.clip(img, 0, 1)\n",
    "    ax.imshow(img)\n",
    "    \n",
    "    dh, dw, _ = img.shape\n",
    "    \n",
    "    flag = False\n",
    "    if 'scores' in info.keys():\n",
    "        mask = info['scores'] >= conf_lvl\n",
    "        confidences = info['scores'][mask]\n",
    "        boxes = info['boxes'][mask]\n",
    "        labels = info['labels'][mask]\n",
    "        \n",
    "        flag = True\n",
    "    else:\n",
    "        \n",
    "        boxes = info['boxes']\n",
    "        labels = info['labels']\n",
    "    \n",
    "    for i, box in enumerate(boxes):\n",
    "        '''\n",
    "        x_min, y_min, x_max, y_max = box\n",
    "        height = y_max - y_min\n",
    "        width = x_max - x_min\n",
    "        '''\n",
    "        x_center, y_center, width, height = box\n",
    "        x_min = x_center - width/2\n",
    "        y_min = y_center - height/2\n",
    "        width = int(width*dw)\n",
    "        height = int(height*dh)\n",
    "        x_min = int(x_min*dw)\n",
    "        y_min = int(y_min*dh)\n",
    "        \n",
    "        label = labels_dict [int(labels[i])]\n",
    "        color = color_dict[int(labels[i])]\n",
    "        rect = patches.Rectangle((x_min, y_min), width, height,\n",
    "                                 linewidth=2, edgecolor=color,\n",
    "                                 facecolor='none')\n",
    "        ax.add_patch(rect)\n",
    "        if with_text:\n",
    "            if flag:\n",
    "                text = '{} {:.0f}%'.format(label, confidences[i]*100)\n",
    "            else:\n",
    "                text = '{}'.format(label)\n",
    "            ax.text(x_min, y_min, text,\n",
    "                    bbox=dict(facecolor='white', alpha=0.5))\n",
    "    plt.show()"
   ]
  },
  {
   "cell_type": "code",
   "execution_count": 86,
   "id": "8f1b706c",
   "metadata": {},
   "outputs": [],
   "source": [
    "def dir_check(path = path_annotations, addition = '_YOLO/'):\n",
    "    new_path = path[:-1] + addition \n",
    "    directory = os.path.isdir(new_path)\n",
    "    if not directory:\n",
    "        os.makedirs(new_path)\n",
    "        print(\"created folder : \", new_path)\n",
    "    else:\n",
    "        print(directory, \"folder already exists.\")\n",
    "    return new_path\n",
    "\n",
    "        \n",
    "def xml_transform_to_YOLO(xml_path, im_size = None, images_dir = images_dir ):\n",
    "    xml = ET.parse(xml_path)\n",
    "    root = xml.getroot()\n",
    "    img_name = root[1].text\n",
    "    labels, boxes = [], [] \n",
    "    \n",
    "    size = (float(root[4][0].text), float(root[4][1].text))\n",
    "    #print(\"(w,h)\", size, img_name) # test info\n",
    "    for obj in root.iter('object'):\n",
    "        label = obj[0].text\n",
    "        if label == 'Common chaffinch':\n",
    "            label = 'Common_chaffinch'\n",
    "        try:\n",
    "            label = [label == species for species in labels_dict.values()].index(True) + 1\n",
    "        except ValueError:\n",
    "            print(xml_path)\n",
    "                \n",
    "        labels.append(label)\n",
    "        box = [int(coord.text) for coord in obj[4]]\n",
    "        if im_size:\n",
    "            dw = im_size[0]/(size[0])\n",
    "            dh = im_size[1]/(size[1])\n",
    "            box = [int(box[0]*dw), int(box[1]*dh), int(box[2]*dw), int(box[3]*dh)]\n",
    "            box = convert_2_yolo(im_size, box)\n",
    "        else:\n",
    "            box = convert_2_yolo(size, box)\n",
    "        boxes.append(box)\n",
    "    annotations = [\"{} {:.3f} {:.3f} {:.3f} {:.3f}\".format(cls, bxs[0], bxs[1], bxs[2], bxs[3])\n",
    "                   for cls, bxs in zip(labels , boxes)]\n",
    "    \n",
    "    save_file_name = xml_path.replace(\"xml\", \"txt\").replace(\"annotations\", \"annotations_YOLO\")   \n",
    "      \n",
    "    print(\"\\n\".join(annotations), file = open(save_file_name, \"w\"))\n",
    "    imgs_path.append(os.path.join(images_dir, img_name))\n",
    "    ann_path.append(save_file_name)\n",
    "\n",
    "\n",
    "def copy_files(files_list, dst):\n",
    "    for src in files_list:\n",
    "        shutil.copy(src, dst)\n",
    "    "
   ]
  },
  {
   "cell_type": "code",
   "execution_count": 78,
   "id": "6582bc1c",
   "metadata": {},
   "outputs": [
    {
     "name": "stdout",
     "output_type": "stream",
     "text": [
      "True folder already exists.\n"
     ]
    }
   ],
   "source": [
    "# list of paths for all annotations files\n",
    "path_list = [os.path.join(path_annotations, path) for path in os.listdir(path_annotations)]\n",
    "#check if annotations YOLO is created\n",
    "dir_check(path_annotations)\n",
    "imgs_path = []\n",
    "ann_path = []\n",
    "for xml_path in path_list:\n",
    "    xml_transform_to_YOLO(xml_path)"
   ]
  },
  {
   "cell_type": "code",
   "execution_count": 80,
   "id": "bf0888e9",
   "metadata": {},
   "outputs": [],
   "source": [
    "# Split the dataset into train-valid-test splits in 0.8 / 0.1 / 0.1 ratio \n",
    "train_imgs, val_imgs, train_annots, val_annots = train_test_split(\n",
    "    imgs_path, ann_path, test_size = 0.2, random_state = 756)\n",
    "val_imgs, test_imgs, val_annots, test_annots = train_test_split(\n",
    "    val_imgs, val_annots, test_size = 0.5, random_state = 756)"
   ]
  },
  {
   "cell_type": "code",
   "execution_count": 91,
   "id": "7cef6794",
   "metadata": {},
   "outputs": [
    {
     "name": "stdout",
     "output_type": "stream",
     "text": [
      "True folder already exists.\n",
      "True folder already exists.\n",
      "True folder already exists.\n",
      "True folder already exists.\n",
      "True folder already exists.\n",
      "True folder already exists.\n"
     ]
    }
   ],
   "source": [
    "tr_an = dir_check(path = path_annotations, addition = '_YOLO/train/')\n",
    "test_an = dir_check(path = path_annotations, addition = '_YOLO/test/')\n",
    "val_an = dir_check(path = path_annotations, addition = '_YOLO/val/')\n",
    "im_tr = dir_check(path = images_dir, addition = '_YOLO/train/')\n",
    "im_test = dir_check(path = images_dir, addition = '_YOLO/test/')\n",
    "im_val = dir_check(path = images_dir, addition = '_YOLO/val/')\n"
   ]
  },
  {
   "cell_type": "code",
   "execution_count": 92,
   "id": "63b72e4c",
   "metadata": {},
   "outputs": [],
   "source": [
    "dirs = [tr_an, test_an, val_an,\n",
    "        im_tr, im_test, im_val]\n",
    "paths = [train_annots, test_annots, val_annots,\n",
    "        train_imgs, test_imgs, val_imgs]\n",
    "\n",
    "for files, folder in zip(paths, dirs):\n",
    "    copy_files(files, folder)"
   ]
  },
  {
   "cell_type": "code",
   "execution_count": 89,
   "id": "9b13e45c",
   "metadata": {},
   "outputs": [],
   "source": []
  },
  {
   "cell_type": "code",
   "execution_count": 75,
   "id": "9688819a",
   "metadata": {},
   "outputs": [],
   "source": []
  },
  {
   "cell_type": "code",
   "execution_count": 94,
   "id": "620da6b2",
   "metadata": {},
   "outputs": [
    {
     "data": {
      "text/plain": [
       "dict_values(['Eurasian_jay', 'great_spotted_woodpecker', 'greenfinch', 'blue_tit', 'Carduelis', 'common_redpoll', 'great_tit', 'bullfinch', 'Eurasian_siskin', 'Eurasian_tree_sparrow', 'hawfinch', 'willow_tit', 'Fieldfare', 'Common_chaffinch', 'Common_linnet'])"
      ]
     },
     "execution_count": 94,
     "metadata": {},
     "output_type": "execute_result"
    }
   ],
   "source": [
    "labels_dict.values()"
   ]
  },
  {
   "cell_type": "code",
   "execution_count": null,
   "id": "9efb36b1",
   "metadata": {},
   "outputs": [],
   "source": []
  },
  {
   "cell_type": "code",
   "execution_count": null,
   "id": "55484c94",
   "metadata": {},
   "outputs": [],
   "source": []
  },
  {
   "cell_type": "code",
   "execution_count": null,
   "id": "4f680720",
   "metadata": {},
   "outputs": [],
   "source": []
  },
  {
   "cell_type": "code",
   "execution_count": null,
   "id": "ea917b90",
   "metadata": {},
   "outputs": [],
   "source": [
    "!git clone https://github.com/ultralytics/yolov5.git #clone repo\n",
    "!cd yolov5/\n",
    "!pip install -r requirements.txt #install dependencies"
   ]
  },
  {
   "cell_type": "code",
   "execution_count": null,
   "id": "04ce2bef",
   "metadata": {},
   "outputs": [],
   "source": [
    "python train.py --img 640 --cfg yolov5s.yaml --hyp hyp.scratch-med.yaml --batch 8 --epochs 100 --data birds_data.yaml --weights yolov5s.pt --workers 24 --name yolo_birds\n"
   ]
  },
  {
   "cell_type": "code",
   "execution_count": 101,
   "id": "6ead97c6",
   "metadata": {},
   "outputs": [
    {
     "data": {
      "text/plain": [
       "['/home/costia/birds/annotations_YOLO/', '/home/costia/birds/annotations/']"
      ]
     },
     "execution_count": 101,
     "metadata": {},
     "output_type": "execute_result"
    }
   ],
   "source": [
    "from glob import glob\n",
    "glob(images_dir + \"/*/\", recursive = True)"
   ]
  },
  {
   "cell_type": "code",
   "execution_count": 103,
   "id": "d17080af",
   "metadata": {},
   "outputs": [],
   "source": [
    "from pathlib import Path\n",
    "\n",
    "# prefix components:\n",
    "space =  '    '\n",
    "branch = '│   '\n",
    "# pointers:\n",
    "tee =    '├── '\n",
    "last =   '└── '\n",
    "\n",
    "\n",
    "def tree(dir_path: Path, prefix: str=''):\n",
    "    \"\"\"A recursive generator, given a directory Path object\n",
    "    will yield a visual tree structure line by line\n",
    "    with each line prefixed by the same characters\n",
    "    \"\"\"    \n",
    "    contents = list(dir_path.iterdir())\n",
    "    # contents each get pointers that are ├── with a final └── :\n",
    "    pointers = [tee] * (len(contents) - 1) + [last]\n",
    "    for pointer, path in zip(pointers, contents):\n",
    "        yield prefix + pointer + path.name\n",
    "        if path.is_dir(): # extend the prefix and recurse:\n",
    "            extension = branch if pointer == tee else space \n",
    "            # i.e. space because last, └── , above so no more |\n",
    "            yield from tree(path, prefix=prefix+extension)\n",
    "            \n"
   ]
  },
  {
   "cell_type": "code",
   "execution_count": 115,
   "id": "83da5456",
   "metadata": {},
   "outputs": [
    {
     "name": "stdout",
     "output_type": "stream",
     "text": [
      "├── yolo_birds2\n",
      "│   ├── labels_correlogram.jpg\n",
      "│   ├── events.out.tfevents.1662755041.costia-Z68XP-UD3.293160.0\n",
      "│   ├── hyp.yaml\n",
      "│   ├── weights\n",
      "│   ├── opt.yaml\n",
      "│   └── labels.jpg\n",
      "├── yolo_birds4\n",
      "│   ├── labels_correlogram.jpg\n",
      "│   ├── events.out.tfevents.1662840617.costia-Z68XP-UD3.428090.0\n",
      "│   ├── hyp.yaml\n",
      "│   ├── weights\n",
      "│   ├── opt.yaml\n",
      "│   ├── labels.jpg\n",
      "│   ├── train_batch0.jpg\n",
      "│   ├── train_batch1.jpg\n",
      "│   └── train_batch2.jpg\n",
      "├── yolo_birds\n",
      "│   ├── hyp.yaml\n",
      "│   ├── weights\n",
      "│   ├── opt.yaml\n",
      "│   └── events.out.tfevents.1662754888.costia-Z68XP-UD3.292815.0\n",
      "├── yolo_birds5\n",
      "│   ├── val_batch0_pred.jpg\n",
      "│   ├── labels_correlogram.jpg\n",
      "│   ├── confusion_matrix.png\n",
      "│   ├── events.out.tfevents.1662878816.costia-Z68XP-UD3.485461.0\n",
      "│   ├── PR_curve.png\n",
      "│   ├── results.png\n",
      "│   ├── val_batch2_pred.jpg\n",
      "│   ├── hyp.yaml\n",
      "│   ├── results.csv\n",
      "│   ├── weights\n",
      "│   │   ├── best.pt\n",
      "│   │   └── last.pt\n",
      "│   ├── val_batch2_labels.jpg\n",
      "│   ├── opt.yaml\n",
      "│   ├── R_curve.png\n",
      "│   ├── labels.jpg\n",
      "│   ├── train_batch0.jpg\n",
      "│   ├── train_batch1.jpg\n",
      "│   ├── val_batch1_labels.jpg\n",
      "│   ├── val_batch1_pred.jpg\n",
      "│   ├── val_batch0_labels.jpg\n",
      "│   ├── F1_curve.png\n",
      "│   ├── P_curve.png\n",
      "│   └── train_batch2.jpg\n",
      "├── yolo_birds3\n",
      "│   ├── val_batch0_pred.jpg\n",
      "│   ├── labels_correlogram.jpg\n",
      "│   ├── events.out.tfevents.1662755082.costia-Z68XP-UD3.293319.0\n",
      "│   ├── confusion_matrix.png\n",
      "│   ├── PR_curve.png\n",
      "│   ├── results.png\n",
      "│   ├── val_batch2_pred.jpg\n",
      "│   ├── hyp.yaml\n",
      "│   ├── results.csv\n",
      "│   ├── weights\n",
      "│   │   ├── best.pt\n",
      "│   │   └── last.pt\n",
      "│   ├── val_batch2_labels.jpg\n",
      "│   ├── opt.yaml\n",
      "│   ├── R_curve.png\n",
      "│   ├── labels.jpg\n",
      "│   ├── train_batch0.jpg\n",
      "│   ├── train_batch1.jpg\n",
      "│   ├── val_batch1_labels.jpg\n",
      "│   ├── val_batch1_pred.jpg\n",
      "│   ├── val_batch0_labels.jpg\n",
      "│   ├── F1_curve.png\n",
      "│   ├── result.zip\n",
      "│   ├── P_curve.png\n",
      "│   └── train_batch2.jpg\n",
      "└── exp\n",
      "    ├── hyp.yaml\n",
      "    ├── weights\n",
      "    ├── opt.yaml\n",
      "    └── events.out.tfevents.1662754628.costia-Z68XP-UD3.292270.0\n"
     ]
    }
   ],
   "source": [
    "for line in tree(Path('/home/costia/yolov5/runs/train')):\n",
    "    print(line)"
   ]
  },
  {
   "cell_type": "code",
   "execution_count": 109,
   "id": "df9db2c5",
   "metadata": {},
   "outputs": [
    {
     "data": {
      "text/plain": [
       "['val_batch0_pred.jpg',\n",
       " 'labels_correlogram.jpg',\n",
       " 'confusion_matrix.png',\n",
       " 'events.out.tfevents.1662878816.costia-Z68XP-UD3.485461.0',\n",
       " 'PR_curve.png',\n",
       " 'results.png',\n",
       " 'val_batch2_pred.jpg',\n",
       " 'hyp.yaml',\n",
       " 'results.csv',\n",
       " 'weights',\n",
       " 'val_batch2_labels.jpg',\n",
       " 'opt.yaml',\n",
       " 'R_curve.png',\n",
       " 'labels.jpg',\n",
       " 'train_batch0.jpg',\n",
       " 'train_batch1.jpg',\n",
       " 'val_batch1_labels.jpg',\n",
       " 'val_batch1_pred.jpg',\n",
       " 'val_batch0_labels.jpg',\n",
       " 'F1_curve.png',\n",
       " 'P_curve.png',\n",
       " 'train_batch2.jpg']"
      ]
     },
     "execution_count": 109,
     "metadata": {},
     "output_type": "execute_result"
    }
   ],
   "source": [
    "os.listdir('/home/costia/yolov5/runs/train/yolo_birds5')"
   ]
  },
  {
   "cell_type": "code",
   "execution_count": 113,
   "id": "a2792e57",
   "metadata": {},
   "outputs": [
    {
     "data": {
      "text/plain": [
       "['/home/costia/yolov5/runs/train/yolo_birds5/']"
      ]
     },
     "execution_count": 113,
     "metadata": {},
     "output_type": "execute_result"
    }
   ],
   "source": [
    "glob('/home/costia/yolov5/runs/train/yolo_birds5/', recursive = True)"
   ]
  },
  {
   "cell_type": "code",
   "execution_count": null,
   "id": "1a2a9801",
   "metadata": {},
   "outputs": [],
   "source": []
  }
 ],
 "metadata": {
  "kernelspec": {
   "display_name": "Python 3 (ipykernel)",
   "language": "python",
   "name": "python3"
  },
  "language_info": {
   "codemirror_mode": {
    "name": "ipython",
    "version": 3
   },
   "file_extension": ".py",
   "mimetype": "text/x-python",
   "name": "python",
   "nbconvert_exporter": "python",
   "pygments_lexer": "ipython3",
   "version": "3.8.11"
  }
 },
 "nbformat": 4,
 "nbformat_minor": 5
}
